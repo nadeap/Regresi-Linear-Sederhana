{
  "nbformat": 4,
  "nbformat_minor": 0,
  "metadata": {
    "colab": {
      "name": "Koefisien Regresi ",
      "provenance": [],
      "collapsed_sections": []
    },
    "kernelspec": {
      "name": "python3",
      "display_name": "Python 3"
    },
    "language_info": {
      "name": "python"
    }
  },
  "cells": [
    {
      "cell_type": "markdown",
      "metadata": {
        "id": "K68dqregCUfj"
      },
      "source": [
        "Nama : Nadea Putri Nur Fauzi\n",
        "\n",
        "NIM : 20110031\n",
        "\n",
        "Kelas : S1-SD-01A\n",
        "\n",
        "Link dataset : https://docs.google.com/spreadsheets/d/1VgbaY3GFE05Pu0ZX4kaoLEIIXk5PIsAp/edit#gid=441758257"
      ]
    },
    {
      "cell_type": "code",
      "metadata": {
        "colab": {
          "base_uri": "https://localhost:8080/"
        },
        "id": "jSS6wz5cCPNP",
        "outputId": "55e5e15f-24c0-4538-c9cb-e89a4ba575b6"
      },
      "source": [
        "from google.colab import drive\n",
        "drive.mount('/content/drive')"
      ],
      "execution_count": null,
      "outputs": [
        {
          "output_type": "stream",
          "name": "stdout",
          "text": [
            "Mounted at /content/drive\n"
          ]
        }
      ]
    },
    {
      "cell_type": "code",
      "metadata": {
        "id": "xTnSbunzDUOl"
      },
      "source": [
        "import numpy as np\n",
        "import pandas as pd\n",
        "import matplotlib.pyplot as plt"
      ],
      "execution_count": null,
      "outputs": []
    },
    {
      "cell_type": "code",
      "metadata": {
        "colab": {
          "base_uri": "https://localhost:8080/",
          "height": 206
        },
        "id": "xmtISbzfh3WQ",
        "outputId": "e3baa36f-0fd8-40a9-f20a-0dc5a8b4a9e3"
      },
      "source": [
        "datareg = pd.read_excel('/content/drive/My Drive/dataset/dataregresi.xlsx')\n",
        "datareg.head()"
      ],
      "execution_count": null,
      "outputs": [
        {
          "output_type": "execute_result",
          "data": {
            "text/html": [
              "<div>\n",
              "<style scoped>\n",
              "    .dataframe tbody tr th:only-of-type {\n",
              "        vertical-align: middle;\n",
              "    }\n",
              "\n",
              "    .dataframe tbody tr th {\n",
              "        vertical-align: top;\n",
              "    }\n",
              "\n",
              "    .dataframe thead th {\n",
              "        text-align: right;\n",
              "    }\n",
              "</style>\n",
              "<table border=\"1\" class=\"dataframe\">\n",
              "  <thead>\n",
              "    <tr style=\"text-align: right;\">\n",
              "      <th></th>\n",
              "      <th>Total Cases</th>\n",
              "      <th>Total Deaths</th>\n",
              "    </tr>\n",
              "  </thead>\n",
              "  <tbody>\n",
              "    <tr>\n",
              "      <th>0</th>\n",
              "      <td>9</td>\n",
              "      <td>5</td>\n",
              "    </tr>\n",
              "    <tr>\n",
              "      <th>1</th>\n",
              "      <td>9</td>\n",
              "      <td>6</td>\n",
              "    </tr>\n",
              "    <tr>\n",
              "      <th>2</th>\n",
              "      <td>9</td>\n",
              "      <td>7</td>\n",
              "    </tr>\n",
              "    <tr>\n",
              "      <th>3</th>\n",
              "      <td>9</td>\n",
              "      <td>10</td>\n",
              "    </tr>\n",
              "    <tr>\n",
              "      <th>4</th>\n",
              "      <td>9</td>\n",
              "      <td>13</td>\n",
              "    </tr>\n",
              "  </tbody>\n",
              "</table>\n",
              "</div>"
            ],
            "text/plain": [
              "   Total Cases  Total Deaths\n",
              "0            9             5\n",
              "1            9             6\n",
              "2            9             7\n",
              "3            9            10\n",
              "4            9            13"
            ]
          },
          "metadata": {},
          "execution_count": 3
        }
      ]
    },
    {
      "cell_type": "code",
      "metadata": {
        "colab": {
          "base_uri": "https://localhost:8080/"
        },
        "id": "avQVzQvCDrrU",
        "outputId": "3addd039-270b-4a13-f7d9-cf7e35dd7a00"
      },
      "source": [
        "datareg.shape"
      ],
      "execution_count": null,
      "outputs": [
        {
          "output_type": "execute_result",
          "data": {
            "text/plain": [
              "(13190, 2)"
            ]
          },
          "metadata": {},
          "execution_count": 4
        }
      ]
    },
    {
      "cell_type": "code",
      "metadata": {
        "colab": {
          "base_uri": "https://localhost:8080/",
          "height": 300
        },
        "id": "mhB67N73DySd",
        "outputId": "02d0e885-e25d-49a5-d6f7-e09e99fb091a"
      },
      "source": [
        "datareg.describe()"
      ],
      "execution_count": null,
      "outputs": [
        {
          "output_type": "execute_result",
          "data": {
            "text/html": [
              "<div>\n",
              "<style scoped>\n",
              "    .dataframe tbody tr th:only-of-type {\n",
              "        vertical-align: middle;\n",
              "    }\n",
              "\n",
              "    .dataframe tbody tr th {\n",
              "        vertical-align: top;\n",
              "    }\n",
              "\n",
              "    .dataframe thead th {\n",
              "        text-align: right;\n",
              "    }\n",
              "</style>\n",
              "<table border=\"1\" class=\"dataframe\">\n",
              "  <thead>\n",
              "    <tr style=\"text-align: right;\">\n",
              "      <th></th>\n",
              "      <th>Total Cases</th>\n",
              "      <th>Total Deaths</th>\n",
              "    </tr>\n",
              "  </thead>\n",
              "  <tbody>\n",
              "    <tr>\n",
              "      <th>count</th>\n",
              "      <td>1.319000e+04</td>\n",
              "      <td>13190.000000</td>\n",
              "    </tr>\n",
              "    <tr>\n",
              "      <th>mean</th>\n",
              "      <td>2.738881e+04</td>\n",
              "      <td>840.511372</td>\n",
              "    </tr>\n",
              "    <tr>\n",
              "      <th>std</th>\n",
              "      <td>1.196840e+05</td>\n",
              "      <td>3397.801867</td>\n",
              "    </tr>\n",
              "    <tr>\n",
              "      <th>min</th>\n",
              "      <td>1.000000e+00</td>\n",
              "      <td>0.000000</td>\n",
              "    </tr>\n",
              "    <tr>\n",
              "      <th>25%</th>\n",
              "      <td>3.662500e+02</td>\n",
              "      <td>12.000000</td>\n",
              "    </tr>\n",
              "    <tr>\n",
              "      <th>50%</th>\n",
              "      <td>3.525500e+03</td>\n",
              "      <td>95.000000</td>\n",
              "    </tr>\n",
              "    <tr>\n",
              "      <th>75%</th>\n",
              "      <td>1.180550e+04</td>\n",
              "      <td>394.000000</td>\n",
              "    </tr>\n",
              "    <tr>\n",
              "      <th>max</th>\n",
              "      <td>1.558145e+06</td>\n",
              "      <td>42348.000000</td>\n",
              "    </tr>\n",
              "  </tbody>\n",
              "</table>\n",
              "</div>"
            ],
            "text/plain": [
              "        Total Cases  Total Deaths\n",
              "count  1.319000e+04  13190.000000\n",
              "mean   2.738881e+04    840.511372\n",
              "std    1.196840e+05   3397.801867\n",
              "min    1.000000e+00      0.000000\n",
              "25%    3.662500e+02     12.000000\n",
              "50%    3.525500e+03     95.000000\n",
              "75%    1.180550e+04    394.000000\n",
              "max    1.558145e+06  42348.000000"
            ]
          },
          "metadata": {},
          "execution_count": 5
        }
      ]
    },
    {
      "cell_type": "code",
      "metadata": {
        "colab": {
          "base_uri": "https://localhost:8080/"
        },
        "id": "PzZYz5POD4ug",
        "outputId": "7bf9f637-f5f2-4ce5-be4c-a4bcd7f8f9a3"
      },
      "source": [
        "datareg.info()"
      ],
      "execution_count": null,
      "outputs": [
        {
          "output_type": "stream",
          "name": "stdout",
          "text": [
            "<class 'pandas.core.frame.DataFrame'>\n",
            "RangeIndex: 13190 entries, 0 to 13189\n",
            "Data columns (total 2 columns):\n",
            " #   Column        Non-Null Count  Dtype\n",
            "---  ------        --------------  -----\n",
            " 0   Total Cases   13190 non-null  int64\n",
            " 1   Total Deaths  13190 non-null  int64\n",
            "dtypes: int64(2)\n",
            "memory usage: 206.2 KB\n"
          ]
        }
      ]
    },
    {
      "cell_type": "markdown",
      "metadata": {
        "id": "tu7kl-GZFLsJ"
      },
      "source": [
        "Membuat Model"
      ]
    },
    {
      "cell_type": "code",
      "metadata": {
        "id": "yHuxIwQlD9IZ"
      },
      "source": [
        "x = datareg['Total Cases'].values.reshape(-1,1)\n",
        "y = datareg['Total Deaths'].values.reshape(-1,1)"
      ],
      "execution_count": null,
      "outputs": []
    },
    {
      "cell_type": "code",
      "metadata": {
        "id": "a8fLakSXFUwG"
      },
      "source": [
        "from sklearn.model_selection import train_test_split\n",
        "x_train, x_test, y_train, y_test = train_test_split(x, y, test_size=0.8)"
      ],
      "execution_count": null,
      "outputs": []
    },
    {
      "cell_type": "code",
      "metadata": {
        "id": "Y8m55G3YFcYy"
      },
      "source": [
        "from sklearn.linear_model import LinearRegression\n",
        "prediksi = LinearRegression()"
      ],
      "execution_count": null,
      "outputs": []
    },
    {
      "cell_type": "markdown",
      "metadata": {
        "id": "6Klh3IowFjA3"
      },
      "source": [
        "Training Model"
      ]
    },
    {
      "cell_type": "code",
      "metadata": {
        "colab": {
          "base_uri": "https://localhost:8080/"
        },
        "id": "L7fnCpfRFgMD",
        "outputId": "f7d5c5b3-e5c0-4454-fe28-783f6baf1f5d"
      },
      "source": [
        "prediksi.fit(x_train, y_train)"
      ],
      "execution_count": null,
      "outputs": [
        {
          "output_type": "execute_result",
          "data": {
            "text/plain": [
              "LinearRegression(copy_X=True, fit_intercept=True, n_jobs=None, normalize=False)"
            ]
          },
          "metadata": {},
          "execution_count": 10
        }
      ]
    },
    {
      "cell_type": "markdown",
      "metadata": {
        "id": "lv2Sckl2HGDc"
      },
      "source": [
        "Koefisien dan Intersep "
      ]
    },
    {
      "cell_type": "code",
      "metadata": {
        "colab": {
          "base_uri": "https://localhost:8080/",
          "height": 287
        },
        "id": "RVx9oz6M6ly7",
        "outputId": "01ad64dd-873f-4448-f41c-ed4589040444"
      },
      "source": [
        "import seaborn as sns\n",
        "sns.heatmap(datareg.corr(), annot=True)"
      ],
      "execution_count": null,
      "outputs": [
        {
          "output_type": "execute_result",
          "data": {
            "text/plain": [
              "<matplotlib.axes._subplots.AxesSubplot at 0x7fd0de22d310>"
            ]
          },
          "metadata": {},
          "execution_count": 11
        },
        {
          "output_type": "display_data",
          "data": {
            "image/png": "[encoded data removed]",
            "text/plain": [
              "<Figure size 432x288 with 2 Axes>"
            ]
          },
          "metadata": {
            "needs_background": "light"
          }
        }
      ]
    },
    {
      "cell_type": "code",
      "metadata": {
        "colab": {
          "base_uri": "https://localhost:8080/"
        },
        "id": "XDE7EVDzFpzT",
        "outputId": "d2dbf574-3870-412e-aeea-15aa5d57a70c"
      },
      "source": [
        "print(prediksi.coef_)\n",
        "print(prediksi.intercept_)"
      ],
      "execution_count": null,
      "outputs": [
        {
          "output_type": "stream",
          "name": "stdout",
          "text": [
            "[[0.02801218]]\n",
            "[81.91083028]\n"
          ]
        }
      ]
    },
    {
      "cell_type": "markdown",
      "metadata": {
        "id": "CPrVt8lyFyfj"
      },
      "source": [
        "Melihat Akurasi"
      ]
    },
    {
      "cell_type": "code",
      "metadata": {
        "colab": {
          "base_uri": "https://localhost:8080/"
        },
        "id": "h6AqszCCFuIJ",
        "outputId": "b977c43f-cf08-4e7f-9576-6f06c8160116"
      },
      "source": [
        "prediksi.score(x_test, y_test)"
      ],
      "execution_count": null,
      "outputs": [
        {
          "output_type": "execute_result",
          "data": {
            "text/plain": [
              "0.9510616097148489"
            ]
          },
          "metadata": {},
          "execution_count": 13
        }
      ]
    },
    {
      "cell_type": "markdown",
      "metadata": {
        "id": "qj6juecDGnQ1"
      },
      "source": [
        "Visualisasi "
      ]
    },
    {
      "cell_type": "code",
      "metadata": {
        "colab": {
          "base_uri": "https://localhost:8080/",
          "height": 295
        },
        "id": "zXrW0D1bF0GE",
        "outputId": "4cb45828-393b-4e5d-a567-8400ef0eaad3"
      },
      "source": [
        "# visualisasi TRAINING\n",
        "plt.scatter(x_train, y_train, color = 'red')\n",
        "plt.plot(x_train, prediksi.predict(x_train), color = 'blue')\n",
        "plt.title('Hasil Training Prediksi Total Cases vs Total Deaths')\n",
        "plt.xlabel('Total Cases')\n",
        "plt.ylabel('Total Deaths')\n",
        "plt.show()"
      ],
      "execution_count": null,
      "outputs": [
        {
          "output_type": "display_data",
          "data": {
            "image/png": "[encoded data removed]",
            "text/plain": [
              "<Figure size 432x288 with 1 Axes>"
            ]
          },
          "metadata": {
            "needs_background": "light"
          }
        }
      ]
    },
    {
      "cell_type": "code",
      "metadata": {
        "colab": {
          "base_uri": "https://localhost:8080/",
          "height": 295
        },
        "id": "zpI9okN8GPa_",
        "outputId": "a32e951b-8e1a-4837-abe7-c3d0632cf4d8"
      },
      "source": [
        "# visualisasi TESTING\n",
        "plt.scatter(x_test, y_test, color = 'yellow')\n",
        "plt.plot(x_test, prediksi.predict(x_test), color = 'green')\n",
        "plt.title('Hasil Testing Prediksi Total Cases vs Total Deaths')\n",
        "plt.xlabel('Total Cases')\n",
        "plt.ylabel('Total Deaths')\n",
        "plt.show()"
      ],
      "execution_count": null,
      "outputs": [
        {
          "output_type": "display_data",
          "data": {
            "image/png": "[encoded data removed]",
            "text/plain": [
              "<Figure size 432x288 with 1 Axes>"
            ]
          },
          "metadata": {
            "needs_background": "light"
          }
        }
      ]
    },
    {
      "cell_type": "code",
      "metadata": {
        "id": "qJa-ntJ3iKn1"
      },
      "source": [
        ""
      ],
      "execution_count": null,
      "outputs": []
    }
  ]
}